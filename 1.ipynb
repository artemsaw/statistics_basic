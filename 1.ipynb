{
 "cells": [
  {
   "cell_type": "code",
   "execution_count": 4,
   "metadata": {},
   "outputs": [
    {
     "data": {
      "text/html": [
       "<div>\n",
       "<style scoped>\n",
       "    .dataframe tbody tr th:only-of-type {\n",
       "        vertical-align: middle;\n",
       "    }\n",
       "\n",
       "    .dataframe tbody tr th {\n",
       "        vertical-align: top;\n",
       "    }\n",
       "\n",
       "    .dataframe thead th {\n",
       "        text-align: right;\n",
       "    }\n",
       "</style>\n",
       "<table border=\"1\" class=\"dataframe\">\n",
       "  <thead>\n",
       "    <tr style=\"text-align: right;\">\n",
       "      <th></th>\n",
       "      <th>Дата</th>\n",
       "      <th>Кампания</th>\n",
       "      <th>№ Кампании</th>\n",
       "      <th>Показы</th>\n",
       "      <th>Клики</th>\n",
       "      <th>CTR (%)</th>\n",
       "      <th>Расход (руб.)</th>\n",
       "      <th>Ср. цена клика (руб.)</th>\n",
       "      <th>Ср. ставка за клик (руб.)</th>\n",
       "      <th>Ср. позиция показов</th>\n",
       "      <th>Конверсии</th>\n",
       "    </tr>\n",
       "  </thead>\n",
       "  <tbody>\n",
       "    <tr>\n",
       "      <th>0</th>\n",
       "      <td>25.12.2020</td>\n",
       "      <td>Пеноплекс / Поиск /  Краснодар</td>\n",
       "      <td>57733902</td>\n",
       "      <td>46</td>\n",
       "      <td>9</td>\n",
       "      <td>19.57</td>\n",
       "      <td>126.07</td>\n",
       "      <td>14.01</td>\n",
       "      <td>35.65</td>\n",
       "      <td>2.95</td>\n",
       "      <td>0</td>\n",
       "    </tr>\n",
       "    <tr>\n",
       "      <th>1</th>\n",
       "      <td>25.12.2020</td>\n",
       "      <td>Пеноплекс / Поиск /  Ростов</td>\n",
       "      <td>57733910</td>\n",
       "      <td>49</td>\n",
       "      <td>7</td>\n",
       "      <td>14.29</td>\n",
       "      <td>86.57</td>\n",
       "      <td>12.37</td>\n",
       "      <td>32.73</td>\n",
       "      <td>2.07</td>\n",
       "      <td>0</td>\n",
       "    </tr>\n",
       "    <tr>\n",
       "      <th>2</th>\n",
       "      <td>25.12.2020</td>\n",
       "      <td>Пеноплекс / Поиск /  Пятигорск</td>\n",
       "      <td>57733916</td>\n",
       "      <td>8</td>\n",
       "      <td>0</td>\n",
       "      <td>0.00</td>\n",
       "      <td>0.00</td>\n",
       "      <td>0.00</td>\n",
       "      <td>0.00</td>\n",
       "      <td>1.57</td>\n",
       "      <td>0</td>\n",
       "    </tr>\n",
       "  </tbody>\n",
       "</table>\n",
       "</div>"
      ],
      "text/plain": [
       "         Дата                        Кампания  № Кампании  Показы  Клики  \\\n",
       "0  25.12.2020  Пеноплекс / Поиск /  Краснодар    57733902      46      9   \n",
       "1  25.12.2020     Пеноплекс / Поиск /  Ростов    57733910      49      7   \n",
       "2  25.12.2020  Пеноплекс / Поиск /  Пятигорск    57733916       8      0   \n",
       "\n",
       "   CTR (%)  Расход (руб.)  Ср. цена клика (руб.)  Ср. ставка за клик (руб.)  \\\n",
       "0    19.57         126.07                  14.01                      35.65   \n",
       "1    14.29          86.57                  12.37                      32.73   \n",
       "2     0.00           0.00                   0.00                       0.00   \n",
       "\n",
       "   Ср. позиция показов  Конверсии  \n",
       "0                 2.95          0  \n",
       "1                 2.07          0  \n",
       "2                 1.57          0  "
      ]
     },
     "execution_count": 4,
     "metadata": {},
     "output_type": "execute_result"
    }
   ],
   "source": [
    "import pandas as pd\n",
    "import statistics as st\n",
    "import matplotlib.pyplot as plt\n",
    "import numpy as nm\n",
    "import datetime\n",
    "df = pd.read_excel(\"C:\\\\Users\\\\sartv\\\\YandexDisk\\\\Porg\\\\Py\\\\P1\\\\direct.xlsx\")\n",
    "df.head(3)"
   ]
  },
  {
   "cell_type": "code",
   "execution_count": 5,
   "metadata": {},
   "outputs": [
    {
     "data": {
      "text/plain": [
       "0        Пеноплекс / Поиск /  Краснодар\n",
       "1           Пеноплекс / Поиск /  Ростов\n",
       "2        Пеноплекс / Поиск /  Пятигорск\n",
       "3           Базальт / Поиск / Краснодар\n",
       "4              Базальт / Поиск / Ростов\n",
       "                     ...               \n",
       "6943    Гидроизоляция / Поиск /  Ростов\n",
       "6944         Проф. мембрана / Краснодар\n",
       "6945           Стекловата / Краснодар /\n",
       "6946           Пеноплекс / Поиск / Крым\n",
       "6947             Базальт / Поиск / Крым\n",
       "Name: Кампания, Length: 6948, dtype: object"
      ]
     },
     "execution_count": 5,
     "metadata": {},
     "output_type": "execute_result"
    }
   ],
   "source": [
    "kmp = df['Кампания']\n",
    "kmp"
   ]
  },
  {
   "cell_type": "code",
   "execution_count": 6,
   "metadata": {},
   "outputs": [
    {
     "data": {
      "text/plain": [
       "'Пеноплекс / Поиск /  Краснодар'"
      ]
     },
     "execution_count": 6,
     "metadata": {},
     "output_type": "execute_result"
    }
   ],
   "source": [
    "firstrow = df['Кампания'][0]\n",
    "firstrow"
   ]
  },
  {
   "cell_type": "code",
   "execution_count": 7,
   "metadata": {},
   "outputs": [
    {
     "data": {
      "text/plain": [
       "Дата                                             25.12.2020\n",
       "Кампания                     Пеноплекс / Поиск /  Краснодар\n",
       "№ Кампании                                         57733902\n",
       "Показы                                                   46\n",
       "Клики                                                     9\n",
       "CTR (%)                                               19.57\n",
       "Расход (руб.)                                        126.07\n",
       "Ср. цена клика (руб.)                                 14.01\n",
       "Ср. ставка за клик (руб.)                             35.65\n",
       "Ср. позиция показов                                    2.95\n",
       "Конверсии                                                 0\n",
       "Name: 0, dtype: object"
      ]
     },
     "execution_count": 7,
     "metadata": {},
     "output_type": "execute_result"
    }
   ],
   "source": [
    "df.iloc[0]"
   ]
  },
  {
   "cell_type": "code",
   "execution_count": 8,
   "metadata": {},
   "outputs": [
    {
     "data": {
      "text/html": [
       "<div>\n",
       "<style scoped>\n",
       "    .dataframe tbody tr th:only-of-type {\n",
       "        vertical-align: middle;\n",
       "    }\n",
       "\n",
       "    .dataframe tbody tr th {\n",
       "        vertical-align: top;\n",
       "    }\n",
       "\n",
       "    .dataframe thead th {\n",
       "        text-align: right;\n",
       "    }\n",
       "</style>\n",
       "<table border=\"1\" class=\"dataframe\">\n",
       "  <thead>\n",
       "    <tr style=\"text-align: right;\">\n",
       "      <th></th>\n",
       "      <th>Кампания</th>\n",
       "      <th>№ Кампании</th>\n",
       "    </tr>\n",
       "  </thead>\n",
       "  <tbody>\n",
       "    <tr>\n",
       "      <th>0</th>\n",
       "      <td>Пеноплекс / Поиск /  Краснодар</td>\n",
       "      <td>57733902</td>\n",
       "    </tr>\n",
       "    <tr>\n",
       "      <th>1</th>\n",
       "      <td>Пеноплекс / Поиск /  Ростов</td>\n",
       "      <td>57733910</td>\n",
       "    </tr>\n",
       "    <tr>\n",
       "      <th>2</th>\n",
       "      <td>Пеноплекс / Поиск /  Пятигорск</td>\n",
       "      <td>57733916</td>\n",
       "    </tr>\n",
       "  </tbody>\n",
       "</table>\n",
       "</div>"
      ],
      "text/plain": [
       "                         Кампания  № Кампании\n",
       "0  Пеноплекс / Поиск /  Краснодар    57733902\n",
       "1     Пеноплекс / Поиск /  Ростов    57733910\n",
       "2  Пеноплекс / Поиск /  Пятигорск    57733916"
      ]
     },
     "execution_count": 8,
     "metadata": {},
     "output_type": "execute_result"
    }
   ],
   "source": [
    "# loc - row iloc - column\n",
    "# df.Кампания.iloc[:10]\n",
    "df.iloc[:3,1:3]"
   ]
  },
  {
   "cell_type": "code",
   "execution_count": 9,
   "metadata": {},
   "outputs": [
    {
     "data": {
      "text/html": [
       "<div>\n",
       "<style scoped>\n",
       "    .dataframe tbody tr th:only-of-type {\n",
       "        vertical-align: middle;\n",
       "    }\n",
       "\n",
       "    .dataframe tbody tr th {\n",
       "        vertical-align: top;\n",
       "    }\n",
       "\n",
       "    .dataframe thead th {\n",
       "        text-align: right;\n",
       "    }\n",
       "</style>\n",
       "<table border=\"1\" class=\"dataframe\">\n",
       "  <thead>\n",
       "    <tr style=\"text-align: right;\">\n",
       "      <th></th>\n",
       "      <th>Дата</th>\n",
       "      <th>Кампания</th>\n",
       "      <th>№ Кампании</th>\n",
       "      <th>Показы</th>\n",
       "      <th>Клики</th>\n",
       "      <th>CTR (%)</th>\n",
       "      <th>Расход (руб.)</th>\n",
       "      <th>Ср. цена клика (руб.)</th>\n",
       "      <th>Ср. ставка за клик (руб.)</th>\n",
       "      <th>Ср. позиция показов</th>\n",
       "      <th>Конверсии</th>\n",
       "    </tr>\n",
       "  </thead>\n",
       "  <tbody>\n",
       "    <tr>\n",
       "      <th>1</th>\n",
       "      <td>25.12.2020</td>\n",
       "      <td>Пеноплекс / Поиск /  Ростов</td>\n",
       "      <td>57733910</td>\n",
       "      <td>49</td>\n",
       "      <td>7</td>\n",
       "      <td>14.29</td>\n",
       "      <td>86.57</td>\n",
       "      <td>12.37</td>\n",
       "      <td>32.73</td>\n",
       "      <td>2.07</td>\n",
       "      <td>0</td>\n",
       "    </tr>\n",
       "    <tr>\n",
       "      <th>2</th>\n",
       "      <td>25.12.2020</td>\n",
       "      <td>Пеноплекс / Поиск /  Пятигорск</td>\n",
       "      <td>57733916</td>\n",
       "      <td>8</td>\n",
       "      <td>0</td>\n",
       "      <td>0.00</td>\n",
       "      <td>0.00</td>\n",
       "      <td>0.00</td>\n",
       "      <td>0.00</td>\n",
       "      <td>1.57</td>\n",
       "      <td>0</td>\n",
       "    </tr>\n",
       "    <tr>\n",
       "      <th>3</th>\n",
       "      <td>25.12.2020</td>\n",
       "      <td>Базальт / Поиск / Краснодар</td>\n",
       "      <td>57733919</td>\n",
       "      <td>19</td>\n",
       "      <td>5</td>\n",
       "      <td>26.32</td>\n",
       "      <td>76.98</td>\n",
       "      <td>15.40</td>\n",
       "      <td>32.18</td>\n",
       "      <td>2.62</td>\n",
       "      <td>0</td>\n",
       "    </tr>\n",
       "    <tr>\n",
       "      <th>4</th>\n",
       "      <td>25.12.2020</td>\n",
       "      <td>Базальт / Поиск / Ростов</td>\n",
       "      <td>57733930</td>\n",
       "      <td>14</td>\n",
       "      <td>3</td>\n",
       "      <td>21.43</td>\n",
       "      <td>90.43</td>\n",
       "      <td>30.14</td>\n",
       "      <td>39.78</td>\n",
       "      <td>2.77</td>\n",
       "      <td>0</td>\n",
       "    </tr>\n",
       "  </tbody>\n",
       "</table>\n",
       "</div>"
      ],
      "text/plain": [
       "         Дата                        Кампания  № Кампании  Показы  Клики  \\\n",
       "1  25.12.2020     Пеноплекс / Поиск /  Ростов    57733910      49      7   \n",
       "2  25.12.2020  Пеноплекс / Поиск /  Пятигорск    57733916       8      0   \n",
       "3  25.12.2020     Базальт / Поиск / Краснодар    57733919      19      5   \n",
       "4  25.12.2020        Базальт / Поиск / Ростов    57733930      14      3   \n",
       "\n",
       "   CTR (%)  Расход (руб.)  Ср. цена клика (руб.)  Ср. ставка за клик (руб.)  \\\n",
       "1    14.29          86.57                  12.37                      32.73   \n",
       "2     0.00           0.00                   0.00                       0.00   \n",
       "3    26.32          76.98                  15.40                      32.18   \n",
       "4    21.43          90.43                  30.14                      39.78   \n",
       "\n",
       "   Ср. позиция показов  Конверсии  \n",
       "1                 2.07          0  \n",
       "2                 1.57          0  \n",
       "3                 2.62          0  \n",
       "4                 2.77          0  "
      ]
     },
     "execution_count": 9,
     "metadata": {},
     "output_type": "execute_result"
    }
   ],
   "source": [
    "df.loc[1:4]"
   ]
  },
  {
   "cell_type": "code",
   "execution_count": 10,
   "metadata": {},
   "outputs": [
    {
     "data": {
      "text/html": [
       "<div>\n",
       "<style scoped>\n",
       "    .dataframe tbody tr th:only-of-type {\n",
       "        vertical-align: middle;\n",
       "    }\n",
       "\n",
       "    .dataframe tbody tr th {\n",
       "        vertical-align: top;\n",
       "    }\n",
       "\n",
       "    .dataframe thead th {\n",
       "        text-align: right;\n",
       "    }\n",
       "</style>\n",
       "<table border=\"1\" class=\"dataframe\">\n",
       "  <thead>\n",
       "    <tr style=\"text-align: right;\">\n",
       "      <th></th>\n",
       "      <th>Дата</th>\n",
       "      <th>Кампания</th>\n",
       "      <th>№ Кампании</th>\n",
       "      <th>Показы</th>\n",
       "      <th>Клики</th>\n",
       "      <th>CTR (%)</th>\n",
       "      <th>Расход (руб.)</th>\n",
       "      <th>Ср. цена клика (руб.)</th>\n",
       "      <th>Ср. ставка за клик (руб.)</th>\n",
       "      <th>Ср. позиция показов</th>\n",
       "      <th>Конверсии</th>\n",
       "    </tr>\n",
       "  </thead>\n",
       "  <tbody>\n",
       "    <tr>\n",
       "      <th>3350</th>\n",
       "      <td>30.07.2021</td>\n",
       "      <td>Пеноплекс / Поиск /  Пятигорск</td>\n",
       "      <td>57733916</td>\n",
       "      <td>128</td>\n",
       "      <td>30</td>\n",
       "      <td>23.44</td>\n",
       "      <td>497.18</td>\n",
       "      <td>16.57</td>\n",
       "      <td>48.09</td>\n",
       "      <td>1.54</td>\n",
       "      <td>1</td>\n",
       "    </tr>\n",
       "  </tbody>\n",
       "</table>\n",
       "</div>"
      ],
      "text/plain": [
       "            Дата                        Кампания  № Кампании  Показы  Клики  \\\n",
       "3350  30.07.2021  Пеноплекс / Поиск /  Пятигорск    57733916     128     30   \n",
       "\n",
       "      CTR (%)  Расход (руб.)  Ср. цена клика (руб.)  \\\n",
       "3350    23.44         497.18                  16.57   \n",
       "\n",
       "      Ср. ставка за клик (руб.)  Ср. позиция показов  Конверсии  \n",
       "3350                      48.09                 1.54          1  "
      ]
     },
     "execution_count": 10,
     "metadata": {},
     "output_type": "execute_result"
    }
   ],
   "source": [
    "#выборка по условию\n",
    "pnp_rnd_conv = df.loc[(df['№ Кампании'] == 57733916) & (df['Конверсии'] > 0)]\n",
    "pnp_rnd_conv.head(1)"
   ]
  },
  {
   "cell_type": "code",
   "execution_count": 11,
   "metadata": {},
   "outputs": [],
   "source": [
    "#выборка нескольких строк по условиям\n",
    "trips = df.loc[df.Кампания.isin(['Пеноплекс / Поиск / Краснодар', 'Пеноплекс / Поиск / Ростов'])]\n"
   ]
  }
 ],
 "metadata": {
  "interpreter": {
   "hash": "ac59ebe37160ed0dfa835113d9b8498d9f09ceb179beaac4002f036b9467c963"
  },
  "kernelspec": {
   "display_name": "Python 3.9.10 64-bit",
   "language": "python",
   "name": "python3"
  },
  "language_info": {
   "codemirror_mode": {
    "name": "ipython",
    "version": 3
   },
   "file_extension": ".py",
   "mimetype": "text/x-python",
   "name": "python",
   "nbconvert_exporter": "python",
   "pygments_lexer": "ipython3",
   "version": "3.9.10"
  },
  "orig_nbformat": 4
 },
 "nbformat": 4,
 "nbformat_minor": 2
}
