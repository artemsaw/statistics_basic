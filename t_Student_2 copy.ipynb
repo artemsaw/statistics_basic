{
 "cells": [
  {
   "cell_type": "markdown",
   "metadata": {},
   "source": [
    "Т-критерий Стюдента t = x-m/(sd/(n**0.5))\n",
    "Степень свободы df = n - 1"
   ]
  },
  {
   "cell_type": "markdown",
   "metadata": {},
   "source": [
    "Формула сравнения 2-х через т-критерий Стьюдента:\n",
    "t = x1-x2/(0.5**(sd1/n1 + sd2/n2)\n",
    "Степень свободы df = n1 + n2 - 2"
   ]
  },
  {
   "cell_type": "code",
   "execution_count": 1,
   "metadata": {},
   "outputs": [
    {
     "data": {
      "text/plain": [
       "Ttest_indResult(statistic=8.176235608718828, pvalue=3.455544014290269e-14)"
      ]
     },
     "execution_count": 1,
     "metadata": {},
     "output_type": "execute_result"
    }
   ],
   "source": [
    "#Сравнение двух средних; t-критерий Стьюдента\n",
    "from scipy import stats\n",
    "stats.ttest_ind_from_stats(45, 9, 100, 34, 10, 100)\n",
    "# x1, sd1, n1, x2, sd2, n2\n",
    "# Ttest_indResult(statistic=8.176235608718828, pvalue=3.455544014290269e-14)"
   ]
  },
  {
   "cell_type": "markdown",
   "metadata": {},
   "source": [
    "Применяя критерий Стьюдента нужно помнить что:\n",
    "1. Дисперссии групп должны быть приблизительно одинаковы (гомогенность дисперсий). Проверяется через критерий Фишера\n",
    "2. Если выборка меньше 30, то распределение должно быть нормальным\n",
    "\n",
    "0. Операции можно производить с переменными, у которых можно рассчитать среднее"
   ]
  },
  {
   "cell_type": "markdown",
   "metadata": {},
   "source": [
    "\n"
   ]
  }
 ],
 "metadata": {
  "interpreter": {
   "hash": "ac59ebe37160ed0dfa835113d9b8498d9f09ceb179beaac4002f036b9467c963"
  },
  "kernelspec": {
   "display_name": "Python 3.9.10 64-bit",
   "language": "python",
   "name": "python3"
  },
  "language_info": {
   "codemirror_mode": {
    "name": "ipython",
    "version": 3
   },
   "file_extension": ".py",
   "mimetype": "text/x-python",
   "name": "python",
   "nbconvert_exporter": "python",
   "pygments_lexer": "ipython3",
   "version": "3.9.10"
  },
  "orig_nbformat": 4
 },
 "nbformat": 4,
 "nbformat_minor": 2
}
