{
 "cells": [
  {
   "cell_type": "code",
   "execution_count": 18,
   "metadata": {},
   "outputs": [
    {
     "data": {
      "text/plain": [
       "0      2020-12-25\n",
       "1      2020-12-25\n",
       "2      2020-12-25\n",
       "3      2020-12-25\n",
       "4      2020-12-25\n",
       "          ...    \n",
       "6943   2022-03-17\n",
       "6944   2022-03-17\n",
       "6945   2022-03-17\n",
       "6946   2022-03-17\n",
       "6947   2022-03-17\n",
       "Name: Дата, Length: 6948, dtype: datetime64[ns]"
      ]
     },
     "execution_count": 18,
     "metadata": {},
     "output_type": "execute_result"
    }
   ],
   "source": [
    "import pandas as pd\n",
    "import statistics as st\n",
    "import matplotlib.pyplot as plt\n",
    "import numpy as nm\n",
    "import datetime\n",
    "d_parser = lambda x: pd.datetime.striptime(x, '%d.%m.%Y')\n",
    "df = pd.read_excel(\"C:\\\\Users\\\\sartv\\\\YandexDisk\\\\Porg\\\\Py\\\\P1\\\\direct.xlsx\")\n",
    "df.head()\n",
    "df['Дата'] = pd.to_datetime(df['Дата'], format = '%d.%m.%Y')\n",
    "df['Дата']"
   ]
  }
 ],
 "metadata": {
  "interpreter": {
   "hash": "ac59ebe37160ed0dfa835113d9b8498d9f09ceb179beaac4002f036b9467c963"
  },
  "kernelspec": {
   "display_name": "Python 3.9.10 64-bit",
   "language": "python",
   "name": "python3"
  },
  "language_info": {
   "codemirror_mode": {
    "name": "ipython",
    "version": 3
   },
   "file_extension": ".py",
   "mimetype": "text/x-python",
   "name": "python",
   "nbconvert_exporter": "python",
   "pygments_lexer": "ipython3",
   "version": "3.9.10"
  },
  "orig_nbformat": 4
 },
 "nbformat": 4,
 "nbformat_minor": 2
}
