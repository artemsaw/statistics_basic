{
 "cells": [
  {
   "cell_type": "code",
   "execution_count": 6,
   "metadata": {},
   "outputs": [
    {
     "data": {
      "text/plain": [
       "'Пеноплекс / Поиск /  Пятигорск'"
      ]
     },
     "execution_count": 6,
     "metadata": {},
     "output_type": "execute_result"
    }
   ],
   "source": [
    "import pandas as pd\n",
    "import statistics as st\n",
    "import matplotlib.pyplot as plt\n",
    "import numpy as nm\n",
    "import datetime\n",
    "d_parser = lambda x: pd.datetime.striptime(x, '%d.%m.%Y')\n",
    "df = pd.read_excel(\"C:\\\\Users\\\\sartv\\\\YandexDisk\\\\Porg\\\\Py\\\\P1\\\\direct.xlsx\")\n"
   ]
  },
  {
   "cell_type": "markdown",
   "metadata": {},
   "source": [
    "Выбираем колонку, выбираем отдельную строку (индексы по аналогии с массивами)"
   ]
  },
  {
   "cell_type": "code",
   "execution_count": 7,
   "metadata": {},
   "outputs": [
    {
     "data": {
      "text/plain": [
       "'Пеноплекс / Поиск /  Пятигорск'"
      ]
     },
     "execution_count": 7,
     "metadata": {},
     "output_type": "execute_result"
    }
   ],
   "source": [
    "company = df['Кампания'][2]\n",
    "company"
   ]
  },
  {
   "cell_type": "markdown",
   "metadata": {},
   "source": [
    "Выбираем 1 троку из дататсета. Используем опратор iloc"
   ]
  },
  {
   "cell_type": "code",
   "execution_count": 10,
   "metadata": {},
   "outputs": [
    {
     "data": {
      "text/plain": [
       "Дата                                          25.12.2020\n",
       "Кампания                     Пеноплекс / Поиск /  Ростов\n",
       "№ Кампании                                      57733910\n",
       "Показы                                                49\n",
       "Клики                                                  7\n",
       "CTR (%)                                            14.29\n",
       "Расход (руб.)                                      86.57\n",
       "Ср. цена клика (руб.)                              12.37\n",
       "Ср. ставка за клик (руб.)                          32.73\n",
       "Ср. позиция показов                                 2.07\n",
       "Конверсии                                              0\n",
       "Name: 1, dtype: object"
      ]
     },
     "execution_count": 10,
     "metadata": {},
     "output_type": "execute_result"
    }
   ],
   "source": [
    "df.iloc[1]"
   ]
  }
 ],
 "metadata": {
  "interpreter": {
   "hash": "ac59ebe37160ed0dfa835113d9b8498d9f09ceb179beaac4002f036b9467c963"
  },
  "kernelspec": {
   "display_name": "Python 3.9.10 64-bit",
   "language": "python",
   "name": "python3"
  },
  "language_info": {
   "codemirror_mode": {
    "name": "ipython",
    "version": 3
   },
   "file_extension": ".py",
   "mimetype": "text/x-python",
   "name": "python",
   "nbconvert_exporter": "python",
   "pygments_lexer": "ipython3",
   "version": "3.9.10"
  },
  "orig_nbformat": 4
 },
 "nbformat": 4,
 "nbformat_minor": 2
}
