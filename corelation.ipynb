{
 "cells": [
  {
   "cell_type": "code",
   "execution_count": 1,
   "metadata": {},
   "outputs": [
    {
     "name": "stdout",
     "output_type": "stream",
     "text": [
      "-1.0\n"
     ]
    },
    {
     "name": "stderr",
     "output_type": "stream",
     "text": [
      "C:\\Users\\sartv\\AppData\\Local\\Temp\\ipykernel_284\\3901633674.py:14: DeprecationWarning: Please use `pearsonr` from the `scipy.stats` namespace, the `scipy.stats.stats` namespace is deprecated.\n",
      "  print(stats.pearsonr(x,y)[0])\n"
     ]
    }
   ],
   "source": [
    "from scipy.stats import stats\n",
    "\n",
    "A = \"\"\"X Y\n",
    "4 2\n",
    "5 1\n",
    "2 4\n",
    "3 3\n",
    "1 5\"\"\"\n",
    "\n",
    "x, y = [], []\n",
    "\n",
    "[(x.append(int(a[0])), y.append(int(a[2]))) for a in A.split('\\n') if a[0].isdigit()]\n",
    "\n",
    "print(stats.pearsonr(x,y)[0])"
   ]
  },
  {
   "cell_type": "code",
   "execution_count": 2,
   "metadata": {},
   "outputs": [
    {
     "data": {
      "text/plain": [
       "-0.9999999999999999"
      ]
     },
     "execution_count": 2,
     "metadata": {},
     "output_type": "execute_result"
    }
   ],
   "source": [
    "import numpy\n",
    "list1 = [4,5,2,3,1]\n",
    "list2 = [2,1,4,3,5]\n",
    "numpy.corrcoef(list1, list2)[0, 1]"
   ]
  },
  {
   "cell_type": "code",
   "execution_count": 3,
   "metadata": {},
   "outputs": [
    {
     "name": "stdout",
     "output_type": "stream",
     "text": [
      "-1.0\n"
     ]
    },
    {
     "data": {
      "image/png": "[encoded data removed]",
      "text/plain": [
       "<Figure size 432x288 with 1 Axes>"
      ]
     },
     "metadata": {
      "needs_background": "light"
     },
     "output_type": "display_data"
    }
   ],
   "source": [
    "import pandas as pd\n",
    "%matplotlib inline\n",
    "from math import sqrt\n",
    "\n",
    "data = {'x': [4,5,2,3,1], 'y': [2,1,4,3,5]}\n",
    "df = pd.DataFrame(data=data)\n",
    "\n",
    "mean = df.mean(axis = 0)\n",
    "rxy = sum((df['x'] - mean['x']) * (df['y'] - mean['y'])) / sqrt(sum((df['x'] - mean['x'])**2) * sum((df['y'] - mean['y'])**2))\n",
    "print(rxy)\n",
    "df.plot.scatter(x='x', y='y');"
   ]
  },
  {
   "cell_type": "markdown",
   "metadata": {},
   "source": [
    "\n"
   ]
  },
  {
   "cell_type": "code",
   "execution_count": 5,
   "metadata": {},
   "outputs": [
    {
     "data": {
      "image/png": "[encoded data removed]",
      "text/plain": [
       "<Figure size 432x288 with 1 Axes>"
      ]
     },
     "metadata": {
      "needs_background": "light"
     },
     "output_type": "display_data"
    },
    {
     "name": "stdout",
     "output_type": "stream",
     "text": [
      "Коэффициент корреляции Спирмана: 0.242\n",
      "Переменные не коррелируют (принимаем нулевую гипотезу) p=0.449\n",
      "Коэффициент корреляции Кендалла: 0.290\n",
      "Переменные не коррелируют (принимаем нулевую гипотезу) p=0.192\n"
     ]
    }
   ],
   "source": [
    "\n",
    "# вычислить корреляцию между двумя выборками\n",
    "from matplotlib import pyplot\n",
    "from scipy.stats import spearmanr,kendalltau\n",
    "\n",
    "# подготовим данные\n",
    "data1 = [3.7, 5.8, 7.1, 9.1, 10.5, 11.4, 11.6, 12.5, 14.3, 17.5, 30.0, 32.0]\n",
    "data2 = [-0.3, 4.1, 4.3, 8.3, 12.9, 8.1, 9.5, 9.5, 18.2, 17.5, 1.0, 2.0]\n",
    "# график\n",
    "pyplot.scatter(data1, data2)\n",
    "pyplot.show()\n",
    "# вычислим корреляцию Спирмена\n",
    "coef, p = spearmanr(data1, data2)\n",
    "print('Коэффициент корреляции Спирмана: %.3f' % coef)\n",
    "# интерпретируем значение\n",
    "alpha = 0.05\n",
    "if p > alpha:\n",
    "    print('Переменные не коррелируют (принимаем нулевую гипотезу) p=%.3f' % p)\n",
    "else:\n",
    "    print('Переменные коррелируют (отвергаем нулевую гипотезу) p=%.3f' % p)\n",
    "# вычислим корреляцию Кендалла    \n",
    "coef, p = kendalltau(data1, data2)\n",
    "print('Коэффициент корреляции Кендалла: %.3f' % coef)\n",
    "\n",
    "if p > alpha:\n",
    "    print('Переменные не коррелируют (принимаем нулевую гипотезу) p=%.3f' % p)\n",
    "else:\n",
    "    print('Переменные коррелируют (отвергаем нулевую гипотезу) p=%.3f' % p)"
   ]
  },
  {
   "cell_type": "code",
   "execution_count": 6,
   "metadata": {},
   "outputs": [
    {
     "name": "stdout",
     "output_type": "stream",
     "text": [
      "          X         Y\n",
      "X  1.000000 -0.110838\n",
      "Y -0.110838  1.000000\n",
      "          X         Y\n",
      "X  1.000000  0.241682\n",
      "Y  0.241682  1.000000\n",
      "          X         Y\n",
      "X  1.000000  0.290085\n",
      "Y  0.290085  1.000000\n"
     ]
    }
   ],
   "source": [
    "import pandas as pd\n",
    "     \n",
    "df = pd.DataFrame({'X':[3.7, 5.8, 7.1, 9.1, 10.5, 11.4, 11.6, 12.5, 14.3, 17.5, 30.0, 32.0],'Y':[-0.3, 4.1, 4.3, 8.3, 12.9, 8.1, 9.5, 9.5, 18.2, 17.5, 1.0, 2.0]})\n",
    "# Пирсон \n",
    "print(df.corr())\n",
    "# Спирман \n",
    "print(df.corr('spearman'))\n",
    "# Кендалл \n",
    "print(df.corr('kendall'))"
   ]
  }
 ],
 "metadata": {
  "interpreter": {
   "hash": "ac59ebe37160ed0dfa835113d9b8498d9f09ceb179beaac4002f036b9467c963"
  },
  "kernelspec": {
   "display_name": "Python 3.9.10 64-bit",
   "language": "python",
   "name": "python3"
  },
  "language_info": {
   "codemirror_mode": {
    "name": "ipython",
    "version": 3
   },
   "file_extension": ".py",
   "mimetype": "text/x-python",
   "name": "python",
   "nbconvert_exporter": "python",
   "pygments_lexer": "ipython3",
   "version": "3.9.10"
  },
  "orig_nbformat": 4
 },
 "nbformat": 4,
 "nbformat_minor": 2
}
