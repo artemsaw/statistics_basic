{
 "cells": [
  {
   "cell_type": "code",
   "execution_count": 13,
   "metadata": {},
   "outputs": [
    {
     "data": {
      "text/plain": [
       "Churn  Total day minutes\n",
       "False  174.5                8\n",
       "       175.4                7\n",
       "       183.4                7\n",
       "       159.5                7\n",
       "       184.5                6\n",
       "                           ..\n",
       "True   166.7                1\n",
       "       165.8                1\n",
       "       165.5                1\n",
       "       165.4                1\n",
       "       350.8                1\n",
       "Length: 1924, dtype: int64"
      ]
     },
     "execution_count": 13,
     "metadata": {},
     "output_type": "execute_result"
    }
   ],
   "source": [
    "import pandas as pd\n",
    "import numpy as np\n",
    "from IPython.display import display\n",
    "\n",
    "df = pd.read_csv(r\"C:\\Users\\sartv\\YandexDisk\\Porg\\Py\\P1\\telecom_churn.csv\")\n",
    "\n",
    "columns_to_show = ['Total day minutes']\n",
    "\n",
    "churn = df.groupby('Churn')[columns_to_show]\n",
    "churn.value_counts()\n"
   ]
  }
 ],
 "metadata": {
  "interpreter": {
   "hash": "ac59ebe37160ed0dfa835113d9b8498d9f09ceb179beaac4002f036b9467c963"
  },
  "kernelspec": {
   "display_name": "Python 3.9.10 64-bit",
   "language": "python",
   "name": "python3"
  },
  "language_info": {
   "codemirror_mode": {
    "name": "ipython",
    "version": 3
   },
   "file_extension": ".py",
   "mimetype": "text/x-python",
   "name": "python",
   "nbconvert_exporter": "python",
   "pygments_lexer": "ipython3",
   "version": "3.9.10"
  },
  "orig_nbformat": 4
 },
 "nbformat": 4,
 "nbformat_minor": 2
}
