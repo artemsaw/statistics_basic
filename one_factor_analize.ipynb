{
 "cells": [
  {
   "cell_type": "markdown",
   "metadata": {},
   "source": [
    "\n"
   ]
  },
  {
   "cell_type": "markdown",
   "metadata": {},
   "source": [
    "Однофакторный дисперсионный анализ.\n",
    "\n",
    "Очень часто в экспериментах и исследованиях возникает необходимость сравнить несколько групп между собой. В таком случае мы можем применять однофакторный дисперсионный анализ.  Та переменная, которая будет разделять наших испытуемых или наблюдения на группы (номинативная переменная с нескольким градациями) называется независимой переменной. А та количественная переменная, по степени выраженности которой мы сравниваем группы, называется зависимая переменная. \n",
    "\n",
    "Переменная, которая разделяет наших испытуемых(наблюдения) на группы называется независимой переменной. \n",
    "\n",
    "Количественная переменная, по степени выраженности которой мы сравниваем группы, будет называться зависимой переменной.\n",
    "\n",
    "1. У нас есть 3 типа лечения, мы хотим понять, есть ли между ними разница. Здесь независимая переменная - тип лечения(тип1, тип2, тип3). Зависимая переменная - некая величина, у каждого испытуемого, которая покажет вам насколько успешно было лечение(продолжительность  симптомов, средняя температура в течении недели после лечения, уровень вещества в крови и т.д.)\n",
    "\n",
    "2. Хотим выяснить как различные удобрения влияют на рост помидоров, опять же у нас есть 3 удобрения. Независимая переменная - удобрения. Зависимая переменная - вес полученных томатов(или высота растения через Х дней). "
   ]
  },
  {
   "cell_type": "markdown",
   "metadata": {},
   "source": [
    "Допустим, что при сравнении четырех групп между собой (по 5 наблюдений в каждой группе) вы получили F = 3.5, тогда:"
   ]
  },
  {
   "cell_type": "code",
   "execution_count": 6,
   "metadata": {},
   "outputs": [
    {
     "name": "stdout",
     "output_type": "stream",
     "text": [
      "p = 0.040052541494826066\n"
     ]
    },
    {
     "data": {
      "text/plain": [
       "'Отклонить'"
      ]
     },
     "execution_count": 6,
     "metadata": {},
     "output_type": "execute_result"
    }
   ],
   "source": [
    "from scipy import stats as st\n",
    "F = 3.5\n",
    "m = 4 #количество групп\n",
    "N = 5*m #размер общей выборки\n",
    "dfw = N - m #внутригрупповое число степеней свободы\n",
    "dfb = m-1 #межгрупповое число степеней свободы\n",
    "p = 1 - st.f.cdf(F, dfb, dfw)\n",
    "print(f'p = {p}')\n",
    "'Принимаем' if p>0.05 else 'Отклонить'"
   ]
  },
  {
   "cell_type": "code",
   "execution_count": 8,
   "metadata": {},
   "outputs": [
    {
     "data": {
      "text/plain": [
       "F_onewayResult(statistic=12.0, pvalue=0.008000000000000002)"
      ]
     },
     "execution_count": 8,
     "metadata": {},
     "output_type": "execute_result"
    }
   ],
   "source": [
    "from scipy.stats import f_oneway\n",
    "\n",
    "f_oneway([3,1,2], [5, 3, 4], [7,6,5])"
   ]
  },
  {
   "cell_type": "code",
   "execution_count": 2,
   "metadata": {},
   "outputs": [
    {
     "name": "stdout",
     "output_type": "stream",
     "text": [
      "['therapy A', 'therapy B', 'therapy C', 'therapy D'] [99.73333333333333, 98.8, 94.4, 92.33333333333333]\n"
     ]
    },
    {
     "data": {
      "image/png": "[encoded data removed]",
      "text/plain": [
       "<Figure size 432x288 with 1 Axes>"
      ]
     },
     "metadata": {
      "needs_background": "light"
     },
     "output_type": "display_data"
    }
   ],
   "source": [
    "import pandas as pd\n",
    "import matplotlib.pyplot as plt\n",
    "\n",
    "URL = \"https://stepik.org/media/attachments/lesson/8083/genetherapy.csv\"\n",
    "data = pd.read_csv(URL)\n",
    "\n",
    "\n",
    "grps = pd.unique(data.Therapy.values)\n",
    "A = data[data[\"Therapy\"] == \"A\"][\"expr\"]\n",
    "Aavg = sum(A)/len(A)\n",
    "Aerr = 4.1\n",
    "B = data[data[\"Therapy\"] == \"B\"][\"expr\"]\n",
    "Bavg = sum(B)/len(B)\n",
    "Berr = 5.8\n",
    "C = data[data[\"Therapy\"] == \"C\"][\"expr\"]\n",
    "Cavg = sum(C)/len(C)\n",
    "Cerr = 5.1\n",
    "D = data[data[\"Therapy\"] == \"D\"][\"expr\"]\n",
    "Davg = sum(D)/len(D)\n",
    "Derr = 3.8\n",
    "list = ['therapy A', 'therapy B', 'therapy C', 'therapy D']\n",
    "listAVG = [Aavg, Bavg, Cavg, Davg]\n",
    "listERR = [Aerr/2, Berr/2, Cerr/2, Derr/2]\n",
    "print(list, listAVG)\n",
    "\n",
    "plt.errorbar(x=list, y=listAVG, yerr=listERR, color=\"black\", capsize=3, marker=\"s\", markersize=5, mfc=\"red\", mec=\"black\")\n",
    "plt.title('STEPIK')\n",
    "plt.grid()\n",
    "plt.xlabel('therapy')\n",
    "plt.ylabel('valu+error')\n",
    "plt.show()"
   ]
  }
 ],
 "metadata": {
  "interpreter": {
   "hash": "ac59ebe37160ed0dfa835113d9b8498d9f09ceb179beaac4002f036b9467c963"
  },
  "kernelspec": {
   "display_name": "Python 3.9.10 64-bit",
   "language": "python",
   "name": "python3"
  },
  "language_info": {
   "codemirror_mode": {
    "name": "ipython",
    "version": 3
   },
   "file_extension": ".py",
   "mimetype": "text/x-python",
   "name": "python",
   "nbconvert_exporter": "python",
   "pygments_lexer": "ipython3",
   "version": "3.9.10"
  },
  "orig_nbformat": 4
 },
 "nbformat": 4,
 "nbformat_minor": 2
}
